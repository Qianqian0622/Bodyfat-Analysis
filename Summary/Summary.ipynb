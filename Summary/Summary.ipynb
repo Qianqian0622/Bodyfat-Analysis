{
 "cells": [
  {
   "cell_type": "markdown",
   "metadata": {},
   "source": [
    "## Introduction\n",
    "\n",
    "The body fat percentage (BFP) of a human or other living being is the total mass of fat divided by total body mass, multiplied by 100. It is a measure of fitness level. While the body fat percentage plays an important role in various health outcomes such as life expectancy, healthcare costs and the so on, it is quite difficult and costly to calculate. So it is practical to come up with a simple and accurate method to estimate body fat percentage. \n",
    "\n",
    "We can use multiple regression to determine the prediction equations for the determination of body fat percentage. The data set we used to analyze contains age, weight, height and 10 circumference measurements on 252 men. Each man's percentage of body fat was accurately estimated by an underwater weighing technique."
   ]
  },
  {
   "cell_type": "markdown",
   "metadata": {},
   "source": [
    "## Data Pre-processing\n",
    "\n",
    "According to the Siri's equation $100B=\\frac{495}{D}-450$, there should be a linear relationship between the two variables body fat and density. Since we are interested in body fat, we select it as the response variable.\n"
   ]
  },
  {
   "cell_type": "markdown",
   "metadata": {},
   "source": [
    "![Figure1](figure1.jpg)\n"
   ]
  },
  {
   "cell_type": "markdown",
   "metadata": {},
   "source": [
    "Firstly, we look through the summary statistics of all variables. We found that there are some abnormal observations. The body fat of observation 182 is 0 which must be an error and this could be handled by computing from the Siri's formula, which should be -3.6. Since there may exist an record error, we decide to delete it. The density of observation 216 is 0.995 smaller than the density of water. Since we do not use density and the other features are normal, we just keep this observation. The height of observation 42 is 29.50 which is so small, but the other features seem quite normal. We consider to impute it by BMI calculation, which should be 69.50. \n",
    "\n",
    "Secondly, we fit the linear regression with all observations and then use Cook’s distance to find the influential points of the model. From the Cook's distance plot, we identify observation 39 is obvious influential point. The subject weights 363 pounds which is very abnormal and all the other features are also quite big, for instance the hip, chest, abdomen circumstances. Then, we consider to delete it. \n",
    "\n",
    "After the data cleaning, we draw an influence plot. According to the influence plot, the studentized residuals are in the range [-3,3] and the hat values are small. There are no obvious outliers and influential points. Hence we could do next step to construct the linear regression model."
   ]
  },
  {
   "cell_type": "markdown",
   "metadata": {},
   "source": [
    "## Multicollinearity\n",
    "\n",
    "To determine which explanatory variables I need to construct the regression model, first I calculate the\n",
    "variance inflation factors of each $𝑋_k$, k=1,2,3,...14. A rule of thumb is that if the mean variance inflation\n",
    "factor is greater than 1, then there might exist multicollinearity. For each inflation factor VIF , if it’s \n",
    "greater than 10, the multicollinearity might have a significant influence. In this dataset, by using the VIF function in R’s “car” package.We may gain VIF shown below.\n",
    "\n",
    "Because mean VIF is 22.18 greater than 1. Hence, there might be the multicollinearity problem. From the table of VIF s shown above, we could identify the individual factor VIF of WEIGHT, HEIGHT and ADIPOSITY are much greater than 10, which indicates that multicollinearity may have a large impact on the inference."
   ]
  },
  {
   "cell_type": "markdown",
   "metadata": {},
   "source": [
    "## Model Selection\n",
    "\n",
    "Next, in order to reduce multicollinearity, we need to reduce the model parameters. There are four famous criteron to select the predictor variables. The $R^2$ criterion, adjusted R^2 criterion, Mallow’s $C_p$ criterion, BIC/AIC criterion. The smaller Cp,BIC/AIC and the bigger adjusted $R^2$ criterion and $R^2$, the better the performance of the model fitting.\n",
    "I first use the \"regsubset\" function in R's \"leaps\" package to gain the best selection model with each best selection size 1 and selection among maximum size 14 of subsets to be examined."
   ]
  },
  {
   "cell_type": "markdown",
   "metadata": {},
   "source": [
    "![Figure2](figure2.jpg)"
   ]
  },
  {
   "cell_type": "markdown",
   "metadata": {},
   "source": [
    "From the table shown above (Figure 2 Criterion table), we could identify that when 2 variables are selected based on the exhaustive search, the change of $R^2$, adjusted $R^2$, $C_p$ and BIC is the largest, indicating that select two variables would be enough to construct a suitable model. Based on the \"rugsubset\" function, the model is BODYFAT~ WEIGHT+ABDOMEN."
   ]
  },
  {
   "cell_type": "markdown",
   "metadata": {},
   "source": [
    "Next we would use t test to check the significance of the coefficients (Figure 2 Model ouput). Because the p value of both the 2 variables amuch smaller than 0.05 and therefore the coefficients are significant. The model is effective.\n",
    "\n",
    "Then I use the \"step\" function in R and BIC criterion.The reason that I choose BIC criterion is that AIC will tend to overfitting. The direction of this process is “both” instead of exhaustive search we implemented before, which means we either add or delete the explanatory variable and compare BIC among them and choose the smallest BIC to gain the best model fitting explanatory variables. The result after a number of steps of choosing is BODYFAT ~ AGE + ADIPOSITY + CHEST + ABDOMEN + WRIST. "
   ]
  },
  {
   "cell_type": "markdown",
   "metadata": {},
   "source": [
    "## Diagnostics"
   ]
  },
  {
   "cell_type": "markdown",
   "metadata": {},
   "source": [
    "![Figure3](figure3.jpg)"
   ]
  },
  {
   "cell_type": "markdown",
   "metadata": {},
   "source": [
    "From the plot shown above, for Resudals vs Index plot both of them are patternless and therefore satisfy the independence. For Residuals vs Fitted plot, the vertical distance from the points to x axis are both nearly constant and patternless and therefore satisfying the homoscedasticity. For the Normal Q-Q plot the residual points of both models are almost in a line and thus the normality assumption should not be violated."
   ]
  },
  {
   "cell_type": "markdown",
   "metadata": {},
   "source": [
    "## Relationship Between Bodyfat and BMI\n",
    "\n",
    "Many papers talk about the relation between bodyfat and bmi and then they use bmi to assess bodyfat. Compared with the method mentioned above, the method on bmi is eaiser to measure and it is more convenient in daily life. Thus, next we compare the result of two models. "
   ]
  },
  {
   "cell_type": "markdown",
   "metadata": {},
   "source": [
    "![Figure4](figure4.jpg)"
   ]
  },
  {
   "cell_type": "markdown",
   "metadata": {},
   "source": [
    "From the scatter plot of BMI and lnBMI, we can find linear relation between BODYFAT and lnBMI is much better. Then, we need to test whether lnBMI can explain ABDOMEN well."
   ]
  },
  {
   "cell_type": "markdown",
   "metadata": {},
   "source": [
    "![Figure5](figure5.jpg)"
   ]
  },
  {
   "cell_type": "markdown",
   "metadata": {},
   "source": [
    "We can see $R^2$ statistics is 0.8355, which means lnBMI can explain most information of ABDOMEN. So we can use lnBMI. And for reducing approximation error, we use WEIGHT and HEIGHT to construct a linear model."
   ]
  },
  {
   "cell_type": "markdown",
   "metadata": {},
   "source": [
    "![Figure6](figure6.jpg)"
   ]
  },
  {
   "cell_type": "markdown",
   "metadata": {},
   "source": [
    "The $R^2$ is 0.5558, which is not bad under only one variable. So we get the model BODYFAT ~ ln(WEIGHT) + ln(HEIGHT^2). Next, we check the model assumption."
   ]
  },
  {
   "cell_type": "markdown",
   "metadata": {},
   "source": [
    "## Diagnostics"
   ]
  },
  {
   "cell_type": "markdown",
   "metadata": {},
   "source": [
    "![Figure7](figure7.jpg)"
   ]
  },
  {
   "cell_type": "markdown",
   "metadata": {},
   "source": [
    "From the plot shown above, for Resudals vs Index plot both of them are patternless and therefore satisfy the independence. For Residuals vs Fitted plot, the vertical distance from the points to x axis are both nearly constant and patternless and therefore satisfying the homoscedasticity. For the Normal Q-Q plot the residual points of both models are almost in a line and thus the normality assumption should not be violated. "
   ]
  },
  {
   "cell_type": "markdown",
   "metadata": {},
   "source": [
    "## Model Evaluation\n",
    "\n",
    "Here, we get two models, the one is A：BODYFAT ~ WEIGHT + ABDOMEN and the other is B：BODYFAT ~ ln(BMI) + Age_level. We split the dataset to train dataset and test dataset to test the robustness of the two model."
   ]
  },
  {
   "cell_type": "markdown",
   "metadata": {},
   "source": [
    "![Figure8](figure8.jpg)"
   ]
  },
  {
   "cell_type": "markdown",
   "metadata": {},
   "source": [
    "We use Mean absolute error to test three models. From the result, we can find that these two model perform better than Onmi Model in the dataset. For our two model,  Model A is more accurate and Model B is much easier to measure. So we provide these two model for doctor."
   ]
  },
  {
   "attachments": {},
   "cell_type": "markdown",
   "metadata": {},
   "source": [
    "## Summary\n",
    "From the analysis above, we decide these three variables: WEIGHT, HEIGHT and ABDOMEN. Under the consideration of convenience, we will use model Model B: BODYFAT=347.72+44.44ln(WEIGHT) -50.49ln($HEIGHT^2$). And if we want a more accruate result, we will use Model A: BODYFAT= -42.5-0.12WEIGHT+0.90ABDOMEN."
   ]
  },
  {
   "attachments": {},
   "cell_type": "markdown",
   "metadata": {},
   "source": [
    "## Contribution\n",
    "\n",
    "He Wang: He was responsible for the data pre-progressing.  He wrote the introduction, background and detected the inaccurate records and outliers in the raw data. What’s more, He finished the same part in the code, slides and summary.\n",
    "\n",
    "Shirley Zhang: Construct the linear regression model including the multicollinearity test, the model variables selection based on the common 4 criterions using the exhaustive search and the stepwise search, do model diagnostic and finally help summarize the results from the whole group all together.\n",
    "\n",
    "\n",
    "Chushi Shi: Analyze the relation between bodyfat and BMI including constructing weight and height model to simplify the original model, and model evaluation for all models.\n",
    "\n",
    "Siqi Shen: He was responsible for the construction and deployment of Shiny. He also created the repository in Github and manage this daily."
   ]
  },
  {
   "attachments": {},
   "cell_type": "markdown",
   "metadata": {},
   "source": [
    "## Reference\n",
    "\n",
    "[1]. Shalabh, IIT Kanpur.Regression Analysis. 2002 \n",
    "\n",
    "[2]. AceFitness  https://www.acefitness.org/education-and-resources/lifestyle/blog/112/what-are-the-guidelines-for-percentage-of-body-fat-loss\n",
    "\n",
    "[3]. Terence C. Mills, Predicting Body Fat Using Data on the BMI. 2005\n",
    "\n",
    "[4]. Army Regulation 600–9, Army Regulation 600–9. 2013"
   ]
  }
 ],
 "metadata": {
  "kernelspec": {
   "display_name": "R",
   "language": "R",
   "name": "ir"
  },
  "language_info": {
   "codemirror_mode": "r",
   "file_extension": ".r",
   "mimetype": "text/x-r-source",
   "name": "R",
   "pygments_lexer": "r",
   "version": "3.5.3"
  }
 },
 "nbformat": 4,
 "nbformat_minor": 2
}
